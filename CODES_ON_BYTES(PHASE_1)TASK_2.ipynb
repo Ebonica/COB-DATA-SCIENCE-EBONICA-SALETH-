{
  "nbformat": 4,
  "nbformat_minor": 0,
  "metadata": {
    "colab": {
      "provenance": [],
      "authorship_tag": "ABX9TyNtI+ML1FATjDWOeGohJMO9",
      "include_colab_link": true
    },
    "kernelspec": {
      "name": "python3",
      "display_name": "Python 3"
    },
    "language_info": {
      "name": "python"
    }
  },
  "cells": [
    {
      "cell_type": "markdown",
      "metadata": {
        "id": "view-in-github",
        "colab_type": "text"
      },
      "source": [
        "<a href=\"https://colab.research.google.com/github/Ebonica/COB-DATA-SCIENCE-EBONICA-SALETH-/blob/main/CODES_ON_BYTES(PHASE_1)TASK_2.ipynb\" target=\"_parent\"><img src=\"https://colab.research.google.com/assets/colab-badge.svg\" alt=\"Open In Colab\"/></a>"
      ]
    },
    {
      "cell_type": "markdown",
      "source": [
        "**CLEANING THE DATASET: REPLACING MISSING VALUES, REMOVING OUTLIERS etc.**"
      ],
      "metadata": {
        "id": "X_LClSo7CPVp"
      }
    },
    {
      "cell_type": "code",
      "execution_count": 33,
      "metadata": {
        "id": "lH3qZxm5Nkbx"
      },
      "outputs": [],
      "source": [
        "import pandas as pd\n",
        "import numpy as np\n",
        "from scipy import stats\n",
        "import matplotlib.pyplot as plt\n",
        "import seaborn as sns"
      ]
    },
    {
      "cell_type": "markdown",
      "source": [
        "**READING THE GIVEN DATASET**"
      ],
      "metadata": {
        "id": "HdzXiZtcCuel"
      }
    },
    {
      "cell_type": "code",
      "source": [
        "df = pd.read_csv(\"dataset - netflix1.csv\")"
      ],
      "metadata": {
        "id": "0Z-Vpb0n99Pu"
      },
      "execution_count": 3,
      "outputs": []
    },
    {
      "cell_type": "markdown",
      "source": [
        "**HANDLING THE MISSING VALUES**"
      ],
      "metadata": {
        "id": "3FN1VORRDH78"
      }
    },
    {
      "cell_type": "markdown",
      "source": [
        "**REPLACING MISSING VALUES WITH THE MEAN OF THE COLUMN**"
      ],
      "metadata": {
        "id": "khovXTKdDNTy"
      }
    },
    {
      "cell_type": "code",
      "source": [
        "df.fillna(df.mean(), inplace=True)\n"
      ],
      "metadata": {
        "colab": {
          "base_uri": "https://localhost:8080/"
        },
        "id": "I9i3MmDa-BDU",
        "outputId": "21abd59b-f4d0-4761-d6dd-882d560a0c82"
      },
      "execution_count": 4,
      "outputs": [
        {
          "output_type": "stream",
          "name": "stderr",
          "text": [
            "<ipython-input-4-bf934754a5b1>:1: FutureWarning: The default value of numeric_only in DataFrame.mean is deprecated. In a future version, it will default to False. In addition, specifying 'numeric_only=None' is deprecated. Select only valid columns or specify the value of numeric_only to silence this warning.\n",
            "  df.fillna(df.mean(), inplace=True)\n"
          ]
        }
      ]
    },
    {
      "cell_type": "markdown",
      "source": [
        "**DROPING ROWS WITH MISSING VALUES**"
      ],
      "metadata": {
        "id": "vNVU3FONDhKp"
      }
    },
    {
      "cell_type": "code",
      "source": [
        "df.dropna(axis=0, inplace=True)"
      ],
      "metadata": {
        "id": "Tcv0RRkO-D0D"
      },
      "execution_count": 13,
      "outputs": []
    },
    {
      "cell_type": "code",
      "source": [
        "df.dtypes"
      ],
      "metadata": {
        "colab": {
          "base_uri": "https://localhost:8080/"
        },
        "id": "hN4NqahdByLQ",
        "outputId": "6fe7d14f-dc69-4c18-f394-bb3f27e49c64"
      },
      "execution_count": 10,
      "outputs": [
        {
          "output_type": "execute_result",
          "data": {
            "text/plain": [
              "show_id         object\n",
              "type            object\n",
              "title           object\n",
              "director        object\n",
              "country         object\n",
              "date_added      object\n",
              "release_year     int64\n",
              "rating          object\n",
              "duration        object\n",
              "listed_in       object\n",
              "dtype: object"
            ]
          },
          "metadata": {},
          "execution_count": 10
        }
      ]
    },
    {
      "cell_type": "markdown",
      "source": [
        "**REMOVING OUTLIERS FROM THE DATASET**"
      ],
      "metadata": {
        "id": "Ms-ywk-iD0ZL"
      }
    },
    {
      "cell_type": "code",
      "source": [
        "def remove_outliers_zscore(df, threshold=3):\n",
        "    z_scores = np.abs(stats.zscore(df.select_dtypes(include=[np.number])))\n",
        "    df_no_outliers = df[(z_scores < threshold).all(axis=1)]\n",
        "    return df_no_outliers\n",
        "\n",
        "threshold = 3\n",
        "df_no_outliers = remove_outliers_zscore(df, threshold)\n",
        "\n",
        "print(df_no_outliers)"
      ],
      "metadata": {
        "colab": {
          "base_uri": "https://localhost:8080/"
        },
        "id": "4qfxi2nnB1HJ",
        "outputId": "ef5f4eb2-fc43-45e7-ccc2-1c7faaf36294"
      },
      "execution_count": 38,
      "outputs": [
        {
          "output_type": "stream",
          "name": "stdout",
          "text": [
            "     show_id     type                             title         director  \\\n",
            "0         s1    Movie              Dick Johnson Is Dead  Kirsten Johnson   \n",
            "1         s3  TV Show                         Ganglands  Julien Leclercq   \n",
            "2         s6  TV Show                     Midnight Mass    Mike Flanagan   \n",
            "3        s14    Movie  Confessions of an Invisible Girl    Bruno Garotti   \n",
            "4         s8    Movie                           Sankofa     Haile Gerima   \n",
            "...      ...      ...                               ...              ...   \n",
            "8785   s8797  TV Show                        Yunus Emre        Not Given   \n",
            "8786   s8798  TV Show                         Zak Storm        Not Given   \n",
            "8787   s8801  TV Show                Zindagi Gulzar Hai        Not Given   \n",
            "8788   s8784  TV Show                              Yoko        Not Given   \n",
            "8789   s8786  TV Show                               YOM        Not Given   \n",
            "\n",
            "            country  date_added  release_year rating   duration  \\\n",
            "0     United States   9/25/2021          2020  PG-13     90 min   \n",
            "1            France   9/24/2021          2021  TV-MA   1 Season   \n",
            "2     United States   9/24/2021          2021  TV-MA   1 Season   \n",
            "3            Brazil   9/22/2021          2021  TV-PG     91 min   \n",
            "4     United States   9/24/2021          1993  TV-MA    125 min   \n",
            "...             ...         ...           ...    ...        ...   \n",
            "8785         Turkey   1/17/2017          2016  TV-PG  2 Seasons   \n",
            "8786  United States   9/13/2018          2016  TV-Y7  3 Seasons   \n",
            "8787       Pakistan  12/15/2016          2012  TV-PG   1 Season   \n",
            "8788       Pakistan   6/23/2018          2016   TV-Y   1 Season   \n",
            "8789       Pakistan    6/7/2018          2016  TV-Y7   1 Season   \n",
            "\n",
            "                                              listed_in  \n",
            "0                                         Documentaries  \n",
            "1     Crime TV Shows, International TV Shows, TV Act...  \n",
            "2                    TV Dramas, TV Horror, TV Mysteries  \n",
            "3                    Children & Family Movies, Comedies  \n",
            "4      Dramas, Independent Movies, International Movies  \n",
            "...                                                 ...  \n",
            "8785                  International TV Shows, TV Dramas  \n",
            "8786                                           Kids' TV  \n",
            "8787  International TV Shows, Romantic TV Shows, TV ...  \n",
            "8788                                           Kids' TV  \n",
            "8789                                           Kids' TV  \n",
            "\n",
            "[8573 rows x 10 columns]\n"
          ]
        }
      ]
    },
    {
      "cell_type": "markdown",
      "source": [
        "**SAVING THE CLEANED DATASET**"
      ],
      "metadata": {
        "id": "g1F1SrzSD4BB"
      }
    },
    {
      "cell_type": "code",
      "source": [
        "df_no_outliers.to_csv(\"cleaned_dataset.csv\", index=False)"
      ],
      "metadata": {
        "id": "O_56Tup6B9O1"
      },
      "execution_count": 12,
      "outputs": []
    },
    {
      "cell_type": "markdown",
      "source": [
        "**DATA ANALYSIS**"
      ],
      "metadata": {
        "id": "A2jumfNGEUqg"
      }
    },
    {
      "cell_type": "code",
      "source": [
        "print(\"First few rows of the dataset:\")\n",
        "print(df_no_outliers.head())\n"
      ],
      "metadata": {
        "colab": {
          "base_uri": "https://localhost:8080/"
        },
        "id": "x3WPTBo06jwE",
        "outputId": "677f8ca0-b8ac-4bc5-881f-15cb9e3414b1"
      },
      "execution_count": 14,
      "outputs": [
        {
          "output_type": "stream",
          "name": "stdout",
          "text": [
            "First few rows of the dataset:\n",
            "  show_id     type                             title         director  \\\n",
            "0      s1    Movie              Dick Johnson Is Dead  Kirsten Johnson   \n",
            "1      s3  TV Show                         Ganglands  Julien Leclercq   \n",
            "2      s6  TV Show                     Midnight Mass    Mike Flanagan   \n",
            "3     s14    Movie  Confessions of an Invisible Girl    Bruno Garotti   \n",
            "4      s8    Movie                           Sankofa     Haile Gerima   \n",
            "\n",
            "         country date_added  release_year rating  duration  \\\n",
            "0  United States  9/25/2021          2020  PG-13    90 min   \n",
            "1         France  9/24/2021          2021  TV-MA  1 Season   \n",
            "2  United States  9/24/2021          2021  TV-MA  1 Season   \n",
            "3         Brazil  9/22/2021          2021  TV-PG    91 min   \n",
            "4  United States  9/24/2021          1993  TV-MA   125 min   \n",
            "\n",
            "                                           listed_in  \n",
            "0                                      Documentaries  \n",
            "1  Crime TV Shows, International TV Shows, TV Act...  \n",
            "2                 TV Dramas, TV Horror, TV Mysteries  \n",
            "3                 Children & Family Movies, Comedies  \n",
            "4   Dramas, Independent Movies, International Movies  \n"
          ]
        }
      ]
    },
    {
      "cell_type": "code",
      "source": [
        "print(\"Last few rows of the dataset:\")\n",
        "print(df_no_outliers.tail())\n"
      ],
      "metadata": {
        "colab": {
          "base_uri": "https://localhost:8080/"
        },
        "id": "YF66b9H97LmM",
        "outputId": "a93eec43-8458-4c82-d9e5-0800b6ef9a56"
      },
      "execution_count": 15,
      "outputs": [
        {
          "output_type": "stream",
          "name": "stdout",
          "text": [
            "Last few rows of the dataset:\n",
            "     show_id     type               title   director        country  \\\n",
            "8785   s8797  TV Show          Yunus Emre  Not Given         Turkey   \n",
            "8786   s8798  TV Show           Zak Storm  Not Given  United States   \n",
            "8787   s8801  TV Show  Zindagi Gulzar Hai  Not Given       Pakistan   \n",
            "8788   s8784  TV Show                Yoko  Not Given       Pakistan   \n",
            "8789   s8786  TV Show                 YOM  Not Given       Pakistan   \n",
            "\n",
            "      date_added  release_year rating   duration  \\\n",
            "8785   1/17/2017          2016  TV-PG  2 Seasons   \n",
            "8786   9/13/2018          2016  TV-Y7  3 Seasons   \n",
            "8787  12/15/2016          2012  TV-PG   1 Season   \n",
            "8788   6/23/2018          2016   TV-Y   1 Season   \n",
            "8789    6/7/2018          2016  TV-Y7   1 Season   \n",
            "\n",
            "                                              listed_in  \n",
            "8785                  International TV Shows, TV Dramas  \n",
            "8786                                           Kids' TV  \n",
            "8787  International TV Shows, Romantic TV Shows, TV ...  \n",
            "8788                                           Kids' TV  \n",
            "8789                                           Kids' TV  \n"
          ]
        }
      ]
    },
    {
      "cell_type": "code",
      "source": [
        "print(\"Dataset Information:\")\n",
        "print(df_no_outliers.info())"
      ],
      "metadata": {
        "id": "turx7vwN7qCj",
        "colab": {
          "base_uri": "https://localhost:8080/"
        },
        "outputId": "8dc5a61d-7afb-4351-ed7c-a132c695674b"
      },
      "execution_count": 16,
      "outputs": [
        {
          "output_type": "stream",
          "name": "stdout",
          "text": [
            "Dataset Information:\n",
            "<class 'pandas.core.frame.DataFrame'>\n",
            "Int64Index: 8573 entries, 0 to 8789\n",
            "Data columns (total 10 columns):\n",
            " #   Column        Non-Null Count  Dtype \n",
            "---  ------        --------------  ----- \n",
            " 0   show_id       8573 non-null   object\n",
            " 1   type          8573 non-null   object\n",
            " 2   title         8573 non-null   object\n",
            " 3   director      8573 non-null   object\n",
            " 4   country       8573 non-null   object\n",
            " 5   date_added    8573 non-null   object\n",
            " 6   release_year  8573 non-null   int64 \n",
            " 7   rating        8573 non-null   object\n",
            " 8   duration      8573 non-null   object\n",
            " 9   listed_in     8573 non-null   object\n",
            "dtypes: int64(1), object(9)\n",
            "memory usage: 736.7+ KB\n",
            "None\n"
          ]
        }
      ]
    },
    {
      "cell_type": "code",
      "source": [
        "print(\"\\nSummary statistics:\")\n",
        "print(df_no_outliers.describe())"
      ],
      "metadata": {
        "colab": {
          "base_uri": "https://localhost:8080/"
        },
        "id": "6xaxLqcK6eqo",
        "outputId": "0d1d659f-3485-41d5-b210-d57cc0a3bc94"
      },
      "execution_count": 17,
      "outputs": [
        {
          "output_type": "stream",
          "name": "stdout",
          "text": [
            "\n",
            "Summary statistics:\n",
            "       release_year\n",
            "count   8573.000000\n",
            "mean    2015.195497\n",
            "std        5.893838\n",
            "min     1988.000000\n",
            "25%     2014.000000\n",
            "50%     2017.000000\n",
            "75%     2019.000000\n",
            "max     2021.000000\n"
          ]
        }
      ]
    },
    {
      "cell_type": "code",
      "source": [
        "print(\"\\nMissing Values:\")\n",
        "print(df_no_outliers.isnull().sum())"
      ],
      "metadata": {
        "colab": {
          "base_uri": "https://localhost:8080/"
        },
        "id": "AuJbndG93iD8",
        "outputId": "6c1d9984-7858-439b-81bf-ca5ab16c458a"
      },
      "execution_count": 18,
      "outputs": [
        {
          "output_type": "stream",
          "name": "stdout",
          "text": [
            "\n",
            "Missing Values:\n",
            "show_id         0\n",
            "type            0\n",
            "title           0\n",
            "director        0\n",
            "country         0\n",
            "date_added      0\n",
            "release_year    0\n",
            "rating          0\n",
            "duration        0\n",
            "listed_in       0\n",
            "dtype: int64\n"
          ]
        }
      ]
    },
    {
      "cell_type": "code",
      "source": [
        "print(\"\\nColumns:\")\n",
        "print(df_no_outliers.columns)"
      ],
      "metadata": {
        "colab": {
          "base_uri": "https://localhost:8080/"
        },
        "id": "4mRatb9c4IXM",
        "outputId": "430062f3-0a05-4a6e-ea9d-1f08d1a0f06c"
      },
      "execution_count": 19,
      "outputs": [
        {
          "output_type": "stream",
          "name": "stdout",
          "text": [
            "\n",
            "Columns:\n",
            "Index(['show_id', 'type', 'title', 'director', 'country', 'date_added',\n",
            "       'release_year', 'rating', 'duration', 'listed_in'],\n",
            "      dtype='object')\n"
          ]
        }
      ]
    },
    {
      "cell_type": "code",
      "source": [
        "print(\"\\nShape:\")\n",
        "print(df_no_outliers.shape)"
      ],
      "metadata": {
        "colab": {
          "base_uri": "https://localhost:8080/"
        },
        "id": "HkXrZnII4TYE",
        "outputId": "ca98b083-ca66-4d6f-d20a-8aed6907f70f"
      },
      "execution_count": 20,
      "outputs": [
        {
          "output_type": "stream",
          "name": "stdout",
          "text": [
            "\n",
            "Shape:\n",
            "(8573, 10)\n"
          ]
        }
      ]
    },
    {
      "cell_type": "code",
      "source": [
        "print(\"\\nDATA TYPES:\")\n",
        "print(df_no_outliers.dtypes)"
      ],
      "metadata": {
        "colab": {
          "base_uri": "https://localhost:8080/"
        },
        "id": "ZCWeJkT-4oq_",
        "outputId": "381b8764-5828-4a10-f98a-9fd77b254061"
      },
      "execution_count": 21,
      "outputs": [
        {
          "output_type": "stream",
          "name": "stdout",
          "text": [
            "\n",
            "DATA TYPES:\n",
            "show_id         object\n",
            "type            object\n",
            "title           object\n",
            "director        object\n",
            "country         object\n",
            "date_added      object\n",
            "release_year     int64\n",
            "rating          object\n",
            "duration        object\n",
            "listed_in       object\n",
            "dtype: object\n"
          ]
        }
      ]
    },
    {
      "cell_type": "code",
      "source": [
        "print(\"\\n Access the 8th row (index 7)\")\n",
        "df_no_outliers.iloc[7]"
      ],
      "metadata": {
        "colab": {
          "base_uri": "https://localhost:8080/"
        },
        "id": "fBwmSO174y9L",
        "outputId": "1cdd03ec-7566-4464-ea6a-c368d048aabc"
      },
      "execution_count": 23,
      "outputs": [
        {
          "output_type": "stream",
          "name": "stdout",
          "text": [
            "\n",
            " Access the 8th row (index 7)\n"
          ]
        },
        {
          "output_type": "execute_result",
          "data": {
            "text/plain": [
              "show_id                                                      s939\n",
              "type                                                        Movie\n",
              "title                             Motu Patlu in the Game of Zones\n",
              "director                                              Suhas Kadav\n",
              "country                                                     India\n",
              "date_added                                               5/1/2021\n",
              "release_year                                                 2019\n",
              "rating                                                      TV-Y7\n",
              "duration                                                   87 min\n",
              "listed_in       Children & Family Movies, Comedies, Music & Mu...\n",
              "Name: 7, dtype: object"
            ]
          },
          "metadata": {},
          "execution_count": 23
        }
      ]
    },
    {
      "cell_type": "code",
      "source": [
        "unique_counts = df_no_outliers.nunique()\n",
        "print(\"Number of unique values in each column:\")\n",
        "print(unique_counts)"
      ],
      "metadata": {
        "colab": {
          "base_uri": "https://localhost:8080/"
        },
        "id": "34wvm8BO5oH7",
        "outputId": "381f99d6-fcd6-47ff-9632-3da4918cf322"
      },
      "execution_count": 24,
      "outputs": [
        {
          "output_type": "stream",
          "name": "stdout",
          "text": [
            "Number of unique values in each column:\n",
            "show_id         8573\n",
            "type               2\n",
            "title           8570\n",
            "director        4403\n",
            "country           84\n",
            "date_added      1711\n",
            "release_year      34\n",
            "rating            14\n",
            "duration         210\n",
            "listed_in        487\n",
            "dtype: int64\n"
          ]
        }
      ]
    },
    {
      "cell_type": "code",
      "source": [
        "nunique_counts = df_no_outliers.nunique()\n",
        "for column in df_no_outliers.columns:\n",
        "    unique_values = df_no_outliers[column].unique()\n",
        "    value_counts = df_no_outliers[column].value_counts()\n",
        "\n",
        "    print(f\"Column: {column}\")\n",
        "    print(f\"Number of unique values: {nunique_counts[column]}\")\n",
        "    print(f\"Unique values: {unique_values}\")\n",
        "    print(f\"Value counts:\\n{value_counts}\\n\")"
      ],
      "metadata": {
        "colab": {
          "base_uri": "https://localhost:8080/"
        },
        "id": "9jyJBRgl7Lbc",
        "outputId": "7b5ca83f-ccab-4f21-92f5-997eaf7329f5"
      },
      "execution_count": 39,
      "outputs": [
        {
          "output_type": "stream",
          "name": "stdout",
          "text": [
            "Column: show_id\n",
            "Number of unique values: 8573\n",
            "Unique values: ['s1' 's3' 's6' ... 's8801' 's8784' 's8786']\n",
            "Value counts:\n",
            "s1       1\n",
            "s8009    1\n",
            "s8027    1\n",
            "s8026    1\n",
            "s8025    1\n",
            "        ..\n",
            "s3927    1\n",
            "s3924    1\n",
            "s3923    1\n",
            "s3922    1\n",
            "s8786    1\n",
            "Name: show_id, Length: 8573, dtype: int64\n",
            "\n",
            "Column: type\n",
            "Number of unique values: 2\n",
            "Unique values: ['Movie' 'TV Show']\n",
            "Value counts:\n",
            "Movie      5922\n",
            "TV Show    2651\n",
            "Name: type, dtype: int64\n",
            "\n",
            "Column: title\n",
            "Number of unique values: 8570\n",
            "Unique values: ['Dick Johnson Is Dead' 'Ganglands' 'Midnight Mass' ...\n",
            " 'Zindagi Gulzar Hai' 'Yoko' 'YOM']\n",
            "Value counts:\n",
            "9-Feb                                       2\n",
            "22-Jul                                      2\n",
            "15-Aug                                      2\n",
            "Dick Johnson Is Dead                        1\n",
            "Siddhant                                    1\n",
            "                                           ..\n",
            "The Perfect Date                            1\n",
            "Dabbe: The Possession                       1\n",
            "Dabbe 5: Zehr-i Cin                         1\n",
            "Who Would You Take to a Deserted Island?    1\n",
            "YOM                                         1\n",
            "Name: title, Length: 8570, dtype: int64\n",
            "\n",
            "Column: director\n",
            "Number of unique values: 4403\n",
            "Unique values: ['Kirsten Johnson' 'Julien Leclercq' 'Mike Flanagan' ... 'Majid Al Ansari'\n",
            " 'Peter Hewitt' 'Mozez Singh']\n",
            "Value counts:\n",
            "Not Given                 2573\n",
            "Rajiv Chilaka               20\n",
            "Alastair Fothergill         18\n",
            "Raúl Campos, Jan Suter      18\n",
            "Marcus Raboy                16\n",
            "                          ... \n",
            "Sergio Pablos                1\n",
            "Valli Bindana                1\n",
            "Makoto Shinkai               1\n",
            "Gautier & Leduc              1\n",
            "Mozez Singh                  1\n",
            "Name: director, Length: 4403, dtype: int64\n",
            "\n",
            "Column: country\n",
            "Number of unique values: 84\n",
            "Unique values: ['United States' 'France' 'Brazil' 'United Kingdom' 'India' 'Germany'\n",
            " 'Pakistan' 'Not Given' 'China' 'South Africa' 'Japan' 'Nigeria' 'Spain'\n",
            " 'Philippines' 'Australia' 'Argentina' 'Canada' 'Hong Kong' 'New Zealand'\n",
            " 'Egypt' 'Italy' 'Colombia' 'Mexico' 'Belgium' 'Switzerland' 'Taiwan'\n",
            " 'Bulgaria' 'Poland' 'South Korea' 'Saudi Arabia' 'Thailand' 'Indonesia'\n",
            " 'Kuwait' 'Malaysia' 'Vietnam' 'Lebanon' 'Romania' 'Syria'\n",
            " 'United Arab Emirates' 'Sweden' 'Mauritius' 'Austria' 'Turkey'\n",
            " 'Czech Republic' 'Cameroon' 'Netherlands' 'Ireland' 'Russia' 'Kenya'\n",
            " 'Chile' 'Uruguay' 'Bangladesh' 'Portugal' 'Hungary' 'Norway' 'Singapore'\n",
            " 'Iceland' 'Serbia' 'Namibia' 'Peru' 'Mozambique' 'Ghana' 'Zimbabwe'\n",
            " 'Israel' 'Finland' 'Denmark' 'Paraguay' 'Cambodia' 'Georgia' 'Greece'\n",
            " 'Iran' 'Venezuela' 'Slovenia' 'Guatemala' 'Jamaica' 'Somalia' 'Croatia'\n",
            " 'Jordan' 'Luxembourg' 'Senegal' 'Belarus' 'Puerto Rico' 'Cyprus'\n",
            " 'Ukraine']\n",
            "Value counts:\n",
            "United States     3146\n",
            "India             1014\n",
            "United Kingdom     627\n",
            "Pakistan           420\n",
            "Not Given          279\n",
            "                  ... \n",
            "Slovenia             1\n",
            "Cameroon             1\n",
            "Namibia              1\n",
            "Greece               1\n",
            "Iran                 1\n",
            "Name: country, Length: 84, dtype: int64\n",
            "\n",
            "Column: date_added\n",
            "Number of unique values: 1711\n",
            "Unique values: ['9/25/2021' '9/24/2021' '9/22/2021' ... '5/22/2016' '9/11/2019'\n",
            " '4/1/2014']\n",
            "Value counts:\n",
            "1/1/2020     104\n",
            "3/1/2018      75\n",
            "11/1/2019     74\n",
            "10/1/2018     71\n",
            "11/1/2018     60\n",
            "            ... \n",
            "6/29/2015      1\n",
            "6/26/2015      1\n",
            "6/23/2015      1\n",
            "6/1/2015       1\n",
            "4/1/2014       1\n",
            "Name: date_added, Length: 1711, dtype: int64\n",
            "\n",
            "Column: release_year\n",
            "Number of unique values: 34\n",
            "Unique values: [2020 2021 1993 2019 2013 2014 2018 1998 2010 2017 1997 1996 2012 2001\n",
            " 2002 2003 2004 2011 2008 2009 2007 2005 2006 2016 1994 2015 1989 1990\n",
            " 1991 1999 2000 1995 1992 1988]\n",
            "Value counts:\n",
            "2018    1146\n",
            "2019    1030\n",
            "2017    1030\n",
            "2020     953\n",
            "2016     901\n",
            "2021     592\n",
            "2015     555\n",
            "2014     352\n",
            "2013     286\n",
            "2012     236\n",
            "2010     192\n",
            "2011     185\n",
            "2009     152\n",
            "2008     135\n",
            "2006      96\n",
            "2007      88\n",
            "2005      80\n",
            "2004      64\n",
            "2003      59\n",
            "2002      51\n",
            "2001      45\n",
            "1999      39\n",
            "1997      38\n",
            "2000      37\n",
            "1998      36\n",
            "1993      28\n",
            "1995      25\n",
            "1996      24\n",
            "1992      23\n",
            "1990      22\n",
            "1994      22\n",
            "1988      18\n",
            "1991      17\n",
            "1989      16\n",
            "Name: release_year, dtype: int64\n",
            "\n",
            "Column: rating\n",
            "Number of unique values: 14\n",
            "Unique values: ['PG-13' 'TV-MA' 'TV-PG' 'TV-14' 'TV-Y7' 'TV-Y' 'PG' 'TV-G' 'R' 'G'\n",
            " 'NC-17' 'NR' 'TV-Y7-FV' 'UR']\n",
            "Value counts:\n",
            "TV-MA       3176\n",
            "TV-14       2083\n",
            "TV-PG        832\n",
            "R            769\n",
            "PG-13        481\n",
            "TV-Y7        332\n",
            "TV-Y         306\n",
            "PG           261\n",
            "TV-G         217\n",
            "NR            74\n",
            "G             31\n",
            "TV-Y7-FV       6\n",
            "NC-17          3\n",
            "UR             2\n",
            "Name: rating, dtype: int64\n",
            "\n",
            "Column: duration\n",
            "Number of unique values: 210\n",
            "Unique values: ['90 min' '1 Season' '91 min' '125 min' '9 Seasons' '104 min' '87 min'\n",
            " '127 min' '76 min' '71 min' '131 min' '39 min' '36 min' '34 min' '35 min'\n",
            " '46 min' '67 min' '65 min' '61 min' '166 min' '103 min' '97 min'\n",
            " '106 min' '2 Seasons' '4 Seasons' '147 min' '94 min' '161 min' '111 min'\n",
            " '110 min' '105 min' '96 min' '115 min' '122 min' '55 min' '99 min'\n",
            " '88 min' '100 min' '6 Seasons' '3 Seasons' '23 min' '102 min' '93 min'\n",
            " '95 min' '85 min' '83 min' '182 min' '5 Seasons' '92 min' '84 min'\n",
            " '48 min' '145 min' '119 min' '80 min' '128 min' '143 min' '273 min'\n",
            " '117 min' '114 min' '118 min' '108 min' '37 min' '121 min' '63 min'\n",
            " '142 min' '113 min' '154 min' '120 min' '82 min' '124 min' '109 min'\n",
            " '101 min' '86 min' '77 min' '98 min' '15 min' '89 min' '112 min'\n",
            " '107 min' '129 min' '44 min' '68 min' '116 min' '135 min' '136 min'\n",
            " '165 min' '150 min' '133 min' '47 min' '70 min' '56 min' '58 min'\n",
            " '78 min' '140 min' '64 min' '59 min' '60 min' '69 min' '19 min' '22 min'\n",
            " '148 min' '189 min' '54 min' '141 min' '130 min' '81 min' '7 Seasons'\n",
            " '138 min' '132 min' '8 Seasons' '123 min' '66 min' '62 min' '74 min'\n",
            " '38 min' '13 min' '139 min' '126 min' '155 min' '159 min' '12 min'\n",
            " '137 min' '49 min' '72 min' '204 min' '25 min' '212 min' '73 min'\n",
            " '149 min' '224 min' '162 min' '75 min' '79 min' '32 min' '158 min'\n",
            " '164 min' '181 min' '185 min' '21 min' '24 min' '51 min' '151 min'\n",
            " '42 min' '134 min' '177 min' '52 min' '53 min' '8 min' '57 min' '28 min'\n",
            " '50 min' '9 min' '26 min' '45 min' '171 min' '27 min' '156 min' '33 min'\n",
            " '29 min' '146 min' '173 min' '20 min' '157 min' '203 min' '41 min'\n",
            " '30 min' '17 min' '15 Seasons' '152 min' '190 min' '160 min' '208 min'\n",
            " '180 min' '144 min' '5 min' '174 min' '192 min' '209 min' '187 min'\n",
            " '16 min' '186 min' '11 min' '193 min' '176 min' '169 min' '172 min'\n",
            " '40 min' '3 min' '168 min' '170 min' '153 min' '214 min' '31 min'\n",
            " '163 min' '14 min' '179 min' '43 min' '196 min' '167 min' '195 min'\n",
            " '205 min' '201 min' '191 min' '10 Seasons' '17 Seasons' '13 Seasons'\n",
            " '10 min' '312 min' '12 Seasons' '11 Seasons']\n",
            "Value counts:\n",
            "1 Season      1783\n",
            "2 Seasons      421\n",
            "3 Seasons      198\n",
            "90 min         147\n",
            "97 min         142\n",
            "              ... \n",
            "208 min          1\n",
            "5 min            1\n",
            "193 min          1\n",
            "186 min          1\n",
            "11 Seasons       1\n",
            "Name: duration, Length: 210, dtype: int64\n",
            "\n",
            "Column: listed_in\n",
            "Number of unique values: 487\n",
            "Unique values: ['Documentaries'\n",
            " 'Crime TV Shows, International TV Shows, TV Action & Adventure'\n",
            " 'TV Dramas, TV Horror, TV Mysteries' 'Children & Family Movies, Comedies'\n",
            " 'Dramas, Independent Movies, International Movies'\n",
            " 'British TV Shows, Reality TV' 'Comedies, Dramas'\n",
            " 'Children & Family Movies, Comedies, Music & Musicals'\n",
            " 'Dramas, International Movies'\n",
            " 'Children & Family Movies, Music & Musicals'\n",
            " 'Dramas, International Movies, Music & Musicals' 'Movies' 'Comedies'\n",
            " 'Docuseries, Reality TV' 'British TV Shows, Crime TV Shows, Docuseries'\n",
            " 'Children & Family Movies' \"Kids' TV\"\n",
            " 'Documentaries, International Movies'\n",
            " 'Crime TV Shows, Docuseries, International TV Shows'\n",
            " 'Comedies, International Movies, Romantic Movies'\n",
            " 'Horror Movies, Sci-Fi & Fantasy' 'Thrillers'\n",
            " 'International TV Shows, Spanish-Language TV Shows, TV Action & Adventure'\n",
            " 'TV Comedies' 'International TV Shows, TV Dramas, TV Thrillers'\n",
            " 'Reality TV' \"Anime Series, Kids' TV\" \"Kids' TV, Korean TV Shows\"\n",
            " 'International TV Shows, Romantic TV Shows, TV Comedies'\n",
            " 'International TV Shows, TV Action & Adventure, TV Comedies'\n",
            " 'Crime TV Shows, International TV Shows, Spanish-Language TV Shows'\n",
            " \"Kids' TV, TV Comedies\" 'Docuseries'\n",
            " 'International TV Shows, TV Comedies'\n",
            " 'Comedies, International Movies, Music & Musicals'\n",
            " 'Comedies, International Movies'\n",
            " 'Dramas, International Movies, Thrillers'\n",
            " 'Action & Adventure, Dramas, International Movies'\n",
            " 'Action & Adventure, Dramas' 'Action & Adventure' 'Dramas, Thrillers'\n",
            " 'Documentaries, Music & Musicals'\n",
            " 'International TV Shows, Spanish-Language TV Shows, TV Dramas'\n",
            " 'Action & Adventure, Anime Features, International Movies'\n",
            " 'Docuseries, International TV Shows' 'Reality TV, Teen TV Shows'\n",
            " 'International TV Shows, Reality TV'\n",
            " 'International TV Shows, TV Dramas, TV Mysteries'\n",
            " 'International TV Shows, TV Comedies, TV Dramas'\n",
            " 'International TV Shows, Spanish-Language TV Shows, TV Comedies'\n",
            " 'TV Comedies, TV Dramas'\n",
            " 'Crime TV Shows, International TV Shows, TV Dramas'\n",
            " 'TV Dramas, Teen TV Shows' 'Anime Series'\n",
            " 'Action & Adventure, Comedies, Dramas' 'International Movies, Thrillers'\n",
            " 'Anime Series, Stand-Up Comedy & Talk Shows'\n",
            " 'Sci-Fi & Fantasy, Thrillers'\n",
            " 'British TV Shows, International TV Shows, Reality TV'\n",
            " 'International TV Shows, Reality TV, Romantic TV Shows'\n",
            " 'Crime TV Shows, International TV Shows, Romantic TV Shows'\n",
            " 'International TV Shows, Romantic TV Shows, Spanish-Language TV Shows'\n",
            " 'Anime Series, International TV Shows' 'Documentaries, Sports Movies'\n",
            " 'Comedies, Dramas, International Movies'\n",
            " 'Dramas, International Movies, Romantic Movies' 'Dramas'\n",
            " 'Comedies, Romantic Movies'\n",
            " 'International TV Shows, Romantic TV Shows, TV Dramas'\n",
            " 'Docuseries, Science & Nature TV' 'International TV Shows, TV Dramas'\n",
            " 'Children & Family Movies, Dramas'\n",
            " 'Crime TV Shows, International TV Shows, TV Thrillers'\n",
            " 'Anime Features, Documentaries' 'International Movies, Music & Musicals'\n",
            " 'Docuseries, International TV Shows, Spanish-Language TV Shows'\n",
            " 'Dramas, Romantic Movies' 'Comedies, Dramas, Independent Movies'\n",
            " 'Action & Adventure, Sci-Fi & Fantasy' 'Reality TV, Romantic TV Shows'\n",
            " 'Crime TV Shows, Docuseries, TV Mysteries'\n",
            " \"Anime Series, Kids' TV, TV Action & Adventure\"\n",
            " 'Action & Adventure, Comedies' 'Classic Movies, Comedies, Dramas'\n",
            " 'Comedies, Cult Movies' 'Comedies, Cult Movies, Music & Musicals'\n",
            " 'Comedies, Music & Musicals' 'Action & Adventure, International Movies'\n",
            " 'Comedies, Dramas, Romantic Movies'\n",
            " 'Comedies, Cult Movies, Sci-Fi & Fantasy' 'Stand-Up Comedy'\n",
            " 'Action & Adventure, Children & Family Movies, Comedies'\n",
            " 'Crime TV Shows, TV Dramas, TV Mysteries' 'Dramas, Faith & Spirituality'\n",
            " 'Documentaries, LGBTQ Movies' 'Action & Adventure, Classic Movies'\n",
            " 'Documentaries, International Movies, Music & Musicals'\n",
            " 'Docuseries, TV Sci-Fi & Fantasy' 'Docuseries, Spanish-Language TV Shows'\n",
            " 'Dramas, Independent Movies'\n",
            " 'Action & Adventure, Comedies, International Movies'\n",
            " 'Action & Adventure, Horror Movies, International Movies'\n",
            " 'Comedies, International Movies, Sci-Fi & Fantasy'\n",
            " 'Action & Adventure, International Movies, Music & Musicals'\n",
            " 'Horror Movies, International Movies'\n",
            " 'International TV Shows, Korean TV Shows, Reality TV'\n",
            " 'Dramas, Independent Movies, Romantic Movies'\n",
            " 'International TV Shows, Korean TV Shows, Romantic TV Shows'\n",
            " 'Stand-Up Comedy & Talk Shows, TV Comedies'\n",
            " \"Kids' TV, Korean TV Shows, TV Comedies\"\n",
            " 'International TV Shows, Romantic TV Shows, TV Action & Adventure'\n",
            " 'Crime TV Shows, Docuseries' 'Horror Movies'\n",
            " 'Documentaries, LGBTQ Movies, Sports Movies'\n",
            " 'Action & Adventure, Anime Features'\n",
            " 'British TV Shows, Crime TV Shows, International TV Shows'\n",
            " 'Anime Series, Crime TV Shows, International TV Shows'\n",
            " 'International TV Shows, TV Action & Adventure, TV Sci-Fi & Fantasy'\n",
            " 'Horror Movies, International Movies, Thrillers'\n",
            " 'Comedies, Independent Movies'\n",
            " 'Classic Movies, Dramas, Independent Movies'\n",
            " 'Documentaries, International Movies, Sports Movies'\n",
            " 'International TV Shows, TV Dramas, TV Sci-Fi & Fantasy'\n",
            " 'Action & Adventure, Anime Features, Children & Family Movies'\n",
            " 'Docuseries, TV Comedies' 'TV Shows'\n",
            " 'Horror Movies, Independent Movies, International Movies'\n",
            " 'Classic Movies, Dramas, International Movies'\n",
            " 'Docuseries, Stand-Up Comedy & Talk Shows' \"Crime TV Shows, Kids' TV\"\n",
            " 'Anime Series, International TV Shows, Romantic TV Shows'\n",
            " 'Reality TV, Science & Nature TV, TV Action & Adventure'\n",
            " \"Docuseries, Kids' TV, Science & Nature TV\"\n",
            " 'International TV Shows, Stand-Up Comedy & Talk Shows'\n",
            " 'International TV Shows, TV Dramas, TV Horror'\n",
            " 'International TV Shows, Korean TV Shows, TV Comedies'\n",
            " 'International TV Shows, Stand-Up Comedy & Talk Shows, TV Comedies'\n",
            " 'Children & Family Movies, Comedies, Sci-Fi & Fantasy'\n",
            " 'Action & Adventure, Horror Movies, Sci-Fi & Fantasy'\n",
            " 'Action & Adventure, Sci-Fi & Fantasy, Thrillers'\n",
            " 'Children & Family Movies, Comedies, Dramas' 'Dramas, Sports Movies'\n",
            " 'Action & Adventure, Dramas, Sci-Fi & Fantasy'\n",
            " 'Action & Adventure, Comedies, Cult Movies'\n",
            " 'Dramas, Independent Movies, Thrillers'\n",
            " 'Children & Family Movies, Sports Movies'\n",
            " 'Crime TV Shows, TV Action & Adventure, TV Sci-Fi & Fantasy'\n",
            " 'International TV Shows'\n",
            " 'Action & Adventure, International Movies, Thrillers'\n",
            " 'British TV Shows, Docuseries, Science & Nature TV'\n",
            " 'Crime TV Shows, Spanish-Language TV Shows, TV Dramas'\n",
            " 'Anime Features, Children & Family Movies, International Movies'\n",
            " 'Action & Adventure, Dramas, Romantic Movies'\n",
            " 'International TV Shows, Reality TV, TV Action & Adventure'\n",
            " 'Horror Movies, LGBTQ Movies'\n",
            " 'Children & Family Movies, Comedies, Sports Movies'\n",
            " 'International Movies, Romantic Movies'\n",
            " 'Children & Family Movies, Dramas, International Movies'\n",
            " 'Comedies, Documentaries, International Movies'\n",
            " 'International Movies, Romantic Movies, Thrillers'\n",
            " 'Action & Adventure, Cult Movies, International Movies'\n",
            " 'Action & Adventure, Comedies, Sci-Fi & Fantasy'\n",
            " 'Action & Adventure, Thrillers'\n",
            " 'Dramas, Faith & Spirituality, International Movies'\n",
            " 'Action & Adventure, Classic Movies, Comedies'\n",
            " 'Action & Adventure, Comedies, Sports Movies' 'Horror Movies, Thrillers'\n",
            " 'Action & Adventure, Romantic Movies'\n",
            " 'Dramas, Romantic Movies, Sci-Fi & Fantasy'\n",
            " 'Dramas, Music & Musicals, Romantic Movies'\n",
            " 'International Movies, Music & Musicals, Romantic Movies'\n",
            " 'British TV Shows, Docuseries' 'Anime Series, Crime TV Shows, TV Horror'\n",
            " 'Comedies, Horror Movies' 'Romantic TV Shows, TV Comedies, TV Dramas'\n",
            " 'Dramas, Faith & Spirituality, Romantic Movies'\n",
            " 'Dramas, Independent Movies, LGBTQ Movies'\n",
            " 'Comedies, Independent Movies, LGBTQ Movies'\n",
            " 'Action & Adventure, Cult Movies, Sci-Fi & Fantasy'\n",
            " 'Cult Movies, Horror Movies' 'Action & Adventure, Dramas, Sports Movies'\n",
            " 'Anime Series, Romantic TV Shows, Teen TV Shows'\n",
            " 'Dramas, International Movies, LGBTQ Movies'\n",
            " 'Dramas, Romantic Movies, Thrillers'\n",
            " 'International TV Shows, TV Action & Adventure, TV Dramas'\n",
            " 'Children & Family Movies, Dramas, Faith & Spirituality'\n",
            " 'Dramas, International Movies, Sports Movies'\n",
            " 'Action & Adventure, Horror Movies'\n",
            " 'Documentaries, International Movies, LGBTQ Movies'\n",
            " 'Dramas, Independent Movies, Sci-Fi & Fantasy'\n",
            " 'Comedies, Independent Movies, International Movies' 'TV Dramas'\n",
            " 'International TV Shows, TV Horror, TV Sci-Fi & Fantasy'\n",
            " 'Independent Movies, International Movies, Thrillers'\n",
            " 'Independent Movies, Thrillers' 'Documentaries, Dramas'\n",
            " 'Action & Adventure, Sports Movies'\n",
            " 'Dramas, International Movies, Sci-Fi & Fantasy'\n",
            " 'Comedies, Independent Movies, Romantic Movies'\n",
            " 'Horror Movies, Romantic Movies, Sci-Fi & Fantasy'\n",
            " 'Action & Adventure, Anime Features, Horror Movies'\n",
            " 'International TV Shows, TV Dramas, Teen TV Shows'\n",
            " 'Comedies, Horror Movies, International Movies'\n",
            " 'Comedies, International Movies, Sports Movies'\n",
            " 'International TV Shows, Reality TV, Spanish-Language TV Shows'\n",
            " 'Children & Family Movies, Faith & Spirituality, Music & Musicals'\n",
            " 'International TV Shows, Korean TV Shows, Stand-Up Comedy & Talk Shows'\n",
            " 'Dramas, Music & Musicals' 'Horror Movies, Independent Movies'\n",
            " 'Comedies, Dramas, Music & Musicals'\n",
            " 'Classic & Cult TV, Crime TV Shows, International TV Shows'\n",
            " 'Action & Adventure, Classic Movies, Dramas' 'Classic Movies, Dramas'\n",
            " 'Comedies, LGBTQ Movies, Thrillers'\n",
            " 'Children & Family Movies, Sci-Fi & Fantasy'\n",
            " 'Comedies, International Movies, LGBTQ Movies' 'Dramas, Sci-Fi & Fantasy'\n",
            " 'British TV Shows, Romantic TV Shows, TV Dramas'\n",
            " 'Anime Series, International TV Shows, Spanish-Language TV Shows'\n",
            " 'Comedies, Romantic Movies, Sports Movies'\n",
            " 'Children & Family Movies, Dramas, Sports Movies'\n",
            " 'Action & Adventure, Dramas, Independent Movies' 'Dramas, LGBTQ Movies'\n",
            " 'Action & Adventure, Dramas, Faith & Spirituality'\n",
            " 'Action & Adventure, Comedies, Independent Movies' 'Music & Musicals'\n",
            " 'Dramas, Independent Movies, Sports Movies'\n",
            " 'Comedies, LGBTQ Movies, Music & Musicals'\n",
            " 'Comedies, International Movies, Thrillers'\n",
            " 'Children & Family Movies, Documentaries'\n",
            " 'Music & Musicals, Romantic Movies' 'Romantic Movies'\n",
            " 'Dramas, LGBTQ Movies, Romantic Movies'\n",
            " 'Children & Family Movies, Comedies, Romantic Movies'\n",
            " 'Comedies, Sports Movies' 'International Movies'\n",
            " 'International TV Shows, Romantic TV Shows, TV Mysteries'\n",
            " 'Action & Adventure, International Movies, Romantic Movies'\n",
            " 'Action & Adventure, Sci-Fi & Fantasy, Sports Movies'\n",
            " 'Action & Adventure, Children & Family Movies, Dramas'\n",
            " 'British TV Shows, International TV Shows, TV Dramas'\n",
            " 'Children & Family Movies, Documentaries, International Movies'\n",
            " 'Anime Features, International Movies'\n",
            " \"British TV Shows, Classic & Cult TV, Kids' TV\"\n",
            " 'International TV Shows, TV Horror, TV Mysteries'\n",
            " 'Documentaries, Faith & Spirituality, International Movies'\n",
            " 'LGBTQ Movies, Thrillers'\n",
            " 'Children & Family Movies, Dramas, Independent Movies'\n",
            " 'Comedies, Music & Musicals, Romantic Movies'\n",
            " 'Anime Features, Children & Family Movies'\n",
            " 'TV Action & Adventure, TV Sci-Fi & Fantasy'\n",
            " 'Action & Adventure, International Movies, Sci-Fi & Fantasy'\n",
            " 'Classic & Cult TV, TV Action & Adventure, TV Horror'\n",
            " 'International TV Shows, Korean TV Shows, TV Dramas'\n",
            " 'Action & Adventure, Comedies, Romantic Movies'\n",
            " 'Children & Family Movies, Comedies, International Movies'\n",
            " 'International Movies, Sci-Fi & Fantasy'\n",
            " 'International Movies, Sci-Fi & Fantasy, Thrillers'\n",
            " 'Children & Family Movies, Dramas, Romantic Movies'\n",
            " 'Comedies, Dramas, LGBTQ Movies'\n",
            " 'Children & Family Movies, Dramas, Music & Musicals'\n",
            " 'Action & Adventure, Independent Movies, International Movies'\n",
            " 'Action & Adventure, Children & Family Movies, Sci-Fi & Fantasy'\n",
            " 'Horror Movies, Independent Movies, Sci-Fi & Fantasy'\n",
            " 'Anime Features, International Movies, Sci-Fi & Fantasy'\n",
            " 'Dramas, Independent Movies, Music & Musicals'\n",
            " 'Children & Family Movies, Documentaries, Sports Movies'\n",
            " 'Independent Movies, Sci-Fi & Fantasy, Thrillers'\n",
            " 'Anime Features, Music & Musicals, Sci-Fi & Fantasy'\n",
            " 'International TV Shows, Korean TV Shows, TV Action & Adventure'\n",
            " 'Crime TV Shows, TV Action & Adventure'\n",
            " 'Comedies, Faith & Spirituality, Romantic Movies'\n",
            " \"Kids' TV, TV Action & Adventure\"\n",
            " 'Action & Adventure, Independent Movies'\n",
            " 'Crime TV Shows, Romantic TV Shows, TV Dramas'\n",
            " 'Anime Features, Romantic Movies'\n",
            " 'Horror Movies, Sci-Fi & Fantasy, Thrillers'\n",
            " 'International TV Shows, Spanish-Language TV Shows, Stand-Up Comedy & Talk Shows'\n",
            " 'Anime Features, Music & Musicals'\n",
            " 'Anime Features, International Movies, Romantic Movies'\n",
            " 'Horror Movies, Independent Movies, Thrillers'\n",
            " 'Documentaries, Stand-Up Comedy'\n",
            " 'Crime TV Shows, TV Action & Adventure, TV Dramas'\n",
            " 'Dramas, Sci-Fi & Fantasy, Thrillers'\n",
            " 'Children & Family Movies, Comedies, LGBTQ Movies'\n",
            " 'Horror Movies, International Movies, Romantic Movies'\n",
            " 'International Movies, Music & Musicals, Thrillers'\n",
            " 'Comedies, Horror Movies, Independent Movies'\n",
            " 'Action & Adventure, International Movies, Sports Movies'\n",
            " 'Comedies, Music & Musicals, Sports Movies'\n",
            " 'Action & Adventure, Independent Movies, Sci-Fi & Fantasy'\n",
            " 'Horror Movies, LGBTQ Movies, Music & Musicals'\n",
            " 'Romantic TV Shows, TV Comedies'\n",
            " 'International Movies, Romantic Movies, Sci-Fi & Fantasy'\n",
            " 'Music & Musicals, Stand-Up Comedy'\n",
            " 'British TV Shows, International TV Shows, TV Action & Adventure'\n",
            " 'Horror Movies, International Movies, Sci-Fi & Fantasy'\n",
            " 'Cult Movies, Horror Movies, Independent Movies'\n",
            " 'Comedies, Documentaries'\n",
            " 'Action & Adventure, Anime Features, Sci-Fi & Fantasy'\n",
            " 'Dramas, Faith & Spirituality, Independent Movies'\n",
            " 'Documentaries, Faith & Spirituality'\n",
            " 'British TV Shows, International TV Shows, Stand-Up Comedy & Talk Shows'\n",
            " 'Comedies, Dramas, Faith & Spirituality'\n",
            " 'Anime Series, International TV Shows, TV Horror'\n",
            " 'Dramas, Romantic Movies, Sports Movies'\n",
            " 'Comedies, Independent Movies, Music & Musicals'\n",
            " 'Stand-Up Comedy & Talk Shows'\n",
            " 'Crime TV Shows, International TV Shows, Korean TV Shows'\n",
            " 'Comedies, Cult Movies, Independent Movies'\n",
            " 'British TV Shows, TV Comedies'\n",
            " 'Documentaries, Dramas, International Movies'\n",
            " 'Children & Family Movies, Comedies, Cult Movies'\n",
            " 'TV Horror, TV Mysteries, TV Thrillers' 'Sci-Fi & Fantasy'\n",
            " 'Comedies, LGBTQ Movies' 'Comedies, Independent Movies, Thrillers'\n",
            " 'Action & Adventure, Children & Family Movies, Independent Movies'\n",
            " 'Action & Adventure, Documentaries, International Movies'\n",
            " 'British TV Shows, Reality TV, Romantic TV Shows'\n",
            " 'Children & Family Movies, Independent Movies'\n",
            " 'Comedies, Cult Movies, Dramas' 'Classic Movies, Thrillers'\n",
            " 'Documentaries, LGBTQ Movies, Music & Musicals'\n",
            " 'Crime TV Shows, Romantic TV Shows, Spanish-Language TV Shows'\n",
            " 'Comedies, Sci-Fi & Fantasy' 'Action & Adventure, Cult Movies, Dramas'\n",
            " 'Documentaries, Faith & Spirituality, Music & Musicals'\n",
            " 'International Movies, Sports Movies'\n",
            " 'Children & Family Movies, Comedies, Faith & Spirituality'\n",
            " 'British TV Shows, Crime TV Shows, TV Dramas'\n",
            " 'Cult Movies, Horror Movies, Thrillers'\n",
            " 'Classic Movies, Comedies, International Movies'\n",
            " 'British TV Shows, Docuseries, International TV Shows'\n",
            " 'Independent Movies' 'Documentaries, Horror Movies'\n",
            " 'Comedies, Faith & Spirituality, International Movies'\n",
            " 'Dramas, Horror Movies, Sci-Fi & Fantasy'\n",
            " 'Action & Adventure, Children & Family Movies, Classic Movies'\n",
            " 'British TV Shows, TV Dramas, TV Sci-Fi & Fantasy'\n",
            " 'Comedies, Cult Movies, Horror Movies'\n",
            " 'Comedies, Cult Movies, Sports Movies'\n",
            " 'Action & Adventure, Faith & Spirituality, Sci-Fi & Fantasy'\n",
            " 'Docuseries, Science & Nature TV, TV Dramas' 'Anime Features'\n",
            " 'Action & Adventure, Horror Movies, Independent Movies'\n",
            " 'Action & Adventure, Children & Family Movies'\n",
            " 'Cult Movies, Independent Movies, Thrillers'\n",
            " 'Classic Movies, Cult Movies, Documentaries'\n",
            " 'Classic Movies, Dramas, LGBTQ Movies'\n",
            " 'Classic Movies, Cult Movies, Dramas' \"British TV Shows, Kids' TV\"\n",
            " 'Action & Adventure, Comedies, Music & Musicals'\n",
            " 'Children & Family Movies, Classic Movies, Dramas'\n",
            " 'Dramas, Faith & Spirituality, Sports Movies'\n",
            " 'Classic Movies, Comedies, Romantic Movies'\n",
            " 'Dramas, Horror Movies, Music & Musicals'\n",
            " 'Docuseries, Reality TV, Teen TV Shows'\n",
            " 'Docuseries, International TV Shows, Science & Nature TV'\n",
            " 'Classic Movies, Independent Movies, Thrillers'\n",
            " 'Children & Family Movies, Faith & Spirituality'\n",
            " 'Comedies, Dramas, Sports Movies'\n",
            " 'Action & Adventure, Romantic Movies, Sci-Fi & Fantasy'\n",
            " 'Comedies, Cult Movies, LGBTQ Movies'\n",
            " 'British TV Shows, Classic & Cult TV, TV Comedies'\n",
            " 'Comedies, Horror Movies, Sci-Fi & Fantasy'\n",
            " 'Action & Adventure, Comedies, Horror Movies'\n",
            " 'Action & Adventure, Documentaries, Sports Movies'\n",
            " 'International Movies, LGBTQ Movies, Romantic Movies'\n",
            " 'Cult Movies, Dramas, Thrillers'\n",
            " 'Docuseries, International TV Shows, Reality TV'\n",
            " 'British TV Shows, International TV Shows, TV Comedies'\n",
            " \"Kids' TV, TV Sci-Fi & Fantasy\" 'Crime TV Shows, TV Comedies, TV Dramas'\n",
            " \"Kids' TV, TV Comedies, TV Sci-Fi & Fantasy\"\n",
            " \"Kids' TV, TV Dramas, Teen TV Shows\"\n",
            " 'Crime TV Shows, TV Action & Adventure, TV Comedies'\n",
            " 'Anime Series, International TV Shows, Teen TV Shows'\n",
            " 'TV Dramas, TV Mysteries, TV Sci-Fi & Fantasy'\n",
            " 'TV Action & Adventure, TV Dramas, TV Mysteries'\n",
            " 'TV Dramas, TV Sci-Fi & Fantasy'\n",
            " 'TV Action & Adventure, TV Dramas, Teen TV Shows'\n",
            " 'Crime TV Shows, International TV Shows, TV Comedies'\n",
            " 'Classic & Cult TV, TV Action & Adventure, TV Dramas'\n",
            " 'Anime Series, International TV Shows, TV Thrillers'\n",
            " 'TV Comedies, TV Dramas, Teen TV Shows' 'Romantic TV Shows, TV Dramas'\n",
            " 'Anime Series, TV Horror, TV Thrillers'\n",
            " 'TV Action & Adventure, TV Dramas, TV Sci-Fi & Fantasy'\n",
            " 'Crime TV Shows, TV Horror, TV Mysteries'\n",
            " \"Kids' TV, TV Action & Adventure, TV Sci-Fi & Fantasy\"\n",
            " \"International TV Shows, Kids' TV, TV Mysteries\"\n",
            " 'Reality TV, TV Action & Adventure, TV Mysteries'\n",
            " 'Crime TV Shows, TV Dramas' 'Crime TV Shows, TV Dramas, TV Thrillers'\n",
            " 'TV Action & Adventure, TV Dramas, TV Horror'\n",
            " 'Reality TV, TV Horror, TV Thrillers'\n",
            " 'TV Action & Adventure, TV Horror, TV Sci-Fi & Fantasy'\n",
            " 'TV Dramas, TV Thrillers' 'Reality TV, TV Comedies, TV Horror'\n",
            " 'Docuseries, Science & Nature TV, TV Action & Adventure'\n",
            " \"British TV Shows, Kids' TV, TV Dramas\" 'TV Horror, Teen TV Shows'\n",
            " 'Docuseries, Reality TV, Science & Nature TV'\n",
            " 'Crime TV Shows, Spanish-Language TV Shows, TV Action & Adventure'\n",
            " 'Romantic TV Shows, Teen TV Shows' 'TV Comedies, Teen TV Shows'\n",
            " 'Romantic TV Shows, TV Dramas, Teen TV Shows'\n",
            " 'Romantic TV Shows, TV Action & Adventure, TV Dramas'\n",
            " \"Kids' TV, TV Thrillers\"\n",
            " 'TV Action & Adventure, TV Comedies, TV Sci-Fi & Fantasy'\n",
            " 'TV Action & Adventure, TV Comedies, TV Dramas'\n",
            " 'Spanish-Language TV Shows, TV Dramas'\n",
            " 'TV Horror, TV Mysteries, TV Sci-Fi & Fantasy'\n",
            " 'International TV Shows, TV Mysteries, TV Thrillers'\n",
            " 'British TV Shows, Classic & Cult TV, International TV Shows'\n",
            " \"British TV Shows, Kids' TV, TV Comedies\"\n",
            " 'TV Dramas, TV Mysteries, TV Thrillers'\n",
            " 'International TV Shows, TV Action & Adventure, TV Mysteries'\n",
            " \"Kids' TV, TV Comedies, Teen TV Shows\"\n",
            " 'Classic & Cult TV, TV Action & Adventure, TV Sci-Fi & Fantasy'\n",
            " 'TV Action & Adventure, TV Dramas' 'Reality TV, TV Comedies'\n",
            " \"Kids' TV, TV Dramas\"\n",
            " 'Crime TV Shows, International TV Shows, TV Mysteries'\n",
            " 'TV Dramas, TV Sci-Fi & Fantasy, TV Thrillers'\n",
            " 'Romantic TV Shows, TV Dramas, TV Sci-Fi & Fantasy'\n",
            " \"Kids' TV, Reality TV, TV Dramas\"\n",
            " 'TV Action & Adventure, TV Mysteries, TV Sci-Fi & Fantasy'\n",
            " 'Reality TV, Science & Nature TV'\n",
            " \"Kids' TV, TV Action & Adventure, TV Comedies\"\n",
            " 'Classic & Cult TV, TV Dramas, TV Sci-Fi & Fantasy'\n",
            " 'International TV Shows, TV Action & Adventure, TV Horror'\n",
            " \"Classic & Cult TV, Kids' TV, TV Action & Adventure\"\n",
            " 'International TV Shows, Korean TV Shows, TV Horror'\n",
            " 'Anime Series, Romantic TV Shows'\n",
            " 'Docuseries, Science & Nature TV, TV Comedies'\n",
            " 'TV Dramas, TV Sci-Fi & Fantasy, Teen TV Shows'\n",
            " \"Kids' TV, TV Comedies, TV Dramas\"\n",
            " 'TV Comedies, TV Dramas, TV Sci-Fi & Fantasy'\n",
            " 'International TV Shows, Reality TV, TV Comedies'\n",
            " 'Crime TV Shows, International TV Shows, Reality TV'\n",
            " 'Anime Series, Teen TV Shows'\n",
            " 'International TV Shows, TV Comedies, TV Sci-Fi & Fantasy'\n",
            " 'International TV Shows, Romantic TV Shows'\n",
            " 'International TV Shows, Romantic TV Shows, Teen TV Shows'\n",
            " 'TV Action & Adventure, TV Comedies, TV Horror'\n",
            " \"Kids' TV, Spanish-Language TV Shows\"\n",
            " \"British TV Shows, Kids' TV, TV Thrillers\"\n",
            " \"Kids' TV, TV Action & Adventure, TV Dramas\"\n",
            " 'Anime Series, Crime TV Shows' 'TV Comedies, TV Dramas, TV Horror'\n",
            " 'Docuseries, TV Dramas' 'Crime TV Shows, Docuseries, Science & Nature TV'\n",
            " \"Kids' TV, Spanish-Language TV Shows, Teen TV Shows\"\n",
            " 'TV Horror, TV Mysteries, Teen TV Shows'\n",
            " \"Kids' TV, Reality TV, Science & Nature TV\"\n",
            " 'TV Comedies, TV Horror, TV Thrillers' 'TV Action & Adventure'\n",
            " 'International TV Shows, Spanish-Language TV Shows, TV Horror'\n",
            " 'Crime TV Shows, TV Action & Adventure, TV Thrillers'\n",
            " 'TV Comedies, TV Sci-Fi & Fantasy, Teen TV Shows'\n",
            " 'TV Comedies, TV Sci-Fi & Fantasy'\n",
            " 'Romantic TV Shows, Spanish-Language TV Shows, TV Comedies'\n",
            " 'Crime TV Shows, International TV Shows, TV Sci-Fi & Fantasy'\n",
            " 'British TV Shows, International TV Shows, Romantic TV Shows'\n",
            " 'TV Comedies, TV Mysteries' 'British TV Shows, Docuseries, TV Comedies'\n",
            " 'TV Comedies, TV Dramas, TV Mysteries'\n",
            " 'Crime TV Shows, TV Comedies, Teen TV Shows'\n",
            " 'Reality TV, Spanish-Language TV Shows'\n",
            " \"Crime TV Shows, Kids' TV, TV Comedies\" 'Classic & Cult TV, TV Comedies'\n",
            " 'Stand-Up Comedy & Talk Shows, TV Mysteries, TV Sci-Fi & Fantasy'\n",
            " 'TV Sci-Fi & Fantasy, TV Thrillers'\n",
            " 'British TV Shows, TV Horror, TV Thrillers' 'Sports Movies'\n",
            " 'International TV Shows, TV Horror, TV Thrillers'\n",
            " 'Crime TV Shows, TV Dramas, TV Horror'\n",
            " 'British TV Shows, Docuseries, Reality TV'\n",
            " 'Anime Series, Crime TV Shows, TV Thrillers'\n",
            " 'Romantic TV Shows, Spanish-Language TV Shows, TV Dramas'\n",
            " 'TV Action & Adventure, TV Comedies'\n",
            " 'Classic & Cult TV, TV Horror, TV Mysteries'\n",
            " 'Crime TV Shows, TV Comedies' \"Classic & Cult TV, Kids' TV, TV Comedies\"\n",
            " 'Classic & Cult TV, Crime TV Shows, TV Dramas']\n",
            "Value counts:\n",
            "Dramas, International Movies                                  358\n",
            "Documentaries                                                 356\n",
            "Stand-Up Comedy                                               330\n",
            "Comedies, Dramas, International Movies                        267\n",
            "Dramas, Independent Movies, International Movies              245\n",
            "                                                             ... \n",
            "British TV Shows, TV Dramas, TV Sci-Fi & Fantasy                1\n",
            "Comedies, Cult Movies, Sports Movies                            1\n",
            "Action & Adventure, Faith & Spirituality, Sci-Fi & Fantasy      1\n",
            "Docuseries, Science & Nature TV, TV Dramas                      1\n",
            "Classic & Cult TV, Crime TV Shows, TV Dramas                    1\n",
            "Name: listed_in, Length: 487, dtype: int64\n",
            "\n"
          ]
        }
      ]
    },
    {
      "cell_type": "markdown",
      "source": [
        "**PREPROCESSING THE DATASET**"
      ],
      "metadata": {
        "id": "ynHZvv0BH3_X"
      }
    },
    {
      "cell_type": "code",
      "source": [
        "from sklearn.preprocessing import LabelEncoder\n",
        "label_encoder = LabelEncoder()\n",
        "df_no_outliers = df_no_outliers.copy()\n",
        "df_no_outliers['rating_encoded'] = label_encoder.fit_transform(df_no_outliers['rating'])\n"
      ],
      "metadata": {
        "id": "QfH8RUpYH9_3"
      },
      "execution_count": 40,
      "outputs": []
    },
    {
      "cell_type": "code",
      "source": [
        "df_no_outliers.dtypes"
      ],
      "metadata": {
        "colab": {
          "base_uri": "https://localhost:8080/"
        },
        "id": "MimbvImC8U4k",
        "outputId": "d44a5d79-8be5-414b-c717-554af8a9ec4d"
      },
      "execution_count": 32,
      "outputs": [
        {
          "output_type": "execute_result",
          "data": {
            "text/plain": [
              "show_id           object\n",
              "type              object\n",
              "title             object\n",
              "director          object\n",
              "country           object\n",
              "date_added        object\n",
              "release_year       int64\n",
              "rating            object\n",
              "duration          object\n",
              "listed_in         object\n",
              "rating_encoded     int64\n",
              "dtype: object"
            ]
          },
          "metadata": {},
          "execution_count": 32
        }
      ]
    },
    {
      "cell_type": "markdown",
      "source": [
        "**DATA VISUALIZATION**"
      ],
      "metadata": {
        "id": "THcN_cRiIbQN"
      }
    },
    {
      "cell_type": "code",
      "source": [
        "plt.figure(figsize=(10, 6))\n",
        "sns.histplot(df_no_outliers['release_year'], bins=20, kde=True)\n",
        "plt.title('Distribution of Release Years')\n",
        "plt.xlabel('Release Year')\n",
        "plt.ylabel('Frequency')\n",
        "plt.show()"
      ],
      "metadata": {
        "colab": {
          "base_uri": "https://localhost:8080/",
          "height": 532
        },
        "id": "Ll0ntSL2IJDu",
        "outputId": "6cb40f1b-44f6-48ff-c0f9-0698e78dde94"
      },
      "execution_count": 34,
      "outputs": [
        {
          "output_type": "display_data",
          "data": {
            "text/plain": [
              "<Figure size 1000x600 with 1 Axes>"
            ],
            "image/png": "[encoded data removed]"
          },
          "metadata": {}
        }
      ]
    },
    {
      "cell_type": "code",
      "source": [
        "correlation_matrix = df_no_outliers.corr()\n",
        "sns.heatmap(correlation_matrix, annot=True, cmap='coolwarm')\n",
        "plt.title('Correlation Heatmap')\n",
        "plt.show()"
      ],
      "metadata": {
        "colab": {
          "base_uri": "https://localhost:8080/",
          "height": 509
        },
        "id": "vU86nJD4ItgA",
        "outputId": "8c91f03a-7463-4beb-f50e-a40d71694a28"
      },
      "execution_count": 35,
      "outputs": [
        {
          "output_type": "stream",
          "name": "stderr",
          "text": [
            "<ipython-input-35-8e772cb97ab8>:1: FutureWarning: The default value of numeric_only in DataFrame.corr is deprecated. In a future version, it will default to False. Select only valid columns or specify the value of numeric_only to silence this warning.\n",
            "  correlation_matrix = df_no_outliers.corr()\n"
          ]
        },
        {
          "output_type": "display_data",
          "data": {
            "text/plain": [
              "<Figure size 640x480 with 2 Axes>"
            ],
            "image/png": "[encoded data removed]"
          },
          "metadata": {}
        }
      ]
    },
    {
      "cell_type": "code",
      "source": [
        "plt.figure(figsize=(10, 6))\n",
        "sns.boxplot(x='release_year', data=df_no_outliers)\n",
        "plt.title('Box Plot of Release Year Distribution')\n",
        "plt.xlabel('Release Year')\n",
        "plt.show()"
      ],
      "metadata": {
        "colab": {
          "base_uri": "https://localhost:8080/",
          "height": 564
        },
        "id": "f65eCmqtIzbY",
        "outputId": "12c63010-62da-4007-86c9-bc8ea0f84204"
      },
      "execution_count": 36,
      "outputs": [
        {
          "output_type": "display_data",
          "data": {
            "text/plain": [
              "<Figure size 1000x600 with 1 Axes>"
            ],
            "image/png": "[encoded data removed]"
          },
          "metadata": {}
        }
      ]
    },
    {
      "cell_type": "code",
      "source": [
        "plt.figure(figsize=(8, 5))\n",
        "sns.countplot(x='type', data=df_no_outliers)\n",
        "plt.title('Distribution of Content Types')\n",
        "plt.xlabel('Type')\n",
        "plt.ylabel('Count')\n",
        "plt.show()"
      ],
      "metadata": {
        "colab": {
          "base_uri": "https://localhost:8080/",
          "height": 487
        },
        "id": "XxSd4I5CJFMt",
        "outputId": "9df3dc47-491f-42c3-92b3-b492677bd336"
      },
      "execution_count": 37,
      "outputs": [
        {
          "output_type": "display_data",
          "data": {
            "text/plain": [
              "<Figure size 800x500 with 1 Axes>"
            ],
            "image/png": "[encoded data removed]"
          },
          "metadata": {}
        }
      ]
    }
  ]
}